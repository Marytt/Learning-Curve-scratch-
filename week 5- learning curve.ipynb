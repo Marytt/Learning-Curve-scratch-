{
 "cells": [
  {
   "cell_type": "code",
   "execution_count": 81,
   "metadata": {},
   "outputs": [],
   "source": [
    "import joblib\n",
    "\n",
    "import pandas as pd\n",
    "import numpy as np\n",
    "import matplotlib.pyplot as plt\n",
    "\n",
    "from sklearn.preprocessing import PolynomialFeatures\n",
    "from sklearn.linear_model import LinearRegression, SGDRegressor, Lasso, Ridge, ElasticNet, RidgeCV\n",
    "from sklearn.pipeline import make_pipeline\n",
    "from sklearn.metrics import mean_absolute_error\n",
    "from sklearn.model_selection import train_test_split, KFold, LeaveOneOut, GridSearchCV, RandomizedSearchCV\n",
    "\n",
    " from mlxtend.evaluate import bias_variance_decomp"
   ]
  },
  {
   "cell_type": "markdown",
   "metadata": {},
   "source": [
    "Function"
   ]
  },
  {
   "cell_type": "code",
   "execution_count": null,
   "metadata": {},
   "outputs": [],
   "source": []
  },
  {
   "cell_type": "code",
   "execution_count": 82,
   "metadata": {},
   "outputs": [],
   "source": [
    "def polynomial(x):\n",
    "    phi_x = np.array([x** i for i in range(d+1)])\n",
    "    phi_x = phi_x[... , 0].T\n",
    "    return phi_x\n"
   ]
  },
  {
   "cell_type": "code",
   "execution_count": 83,
   "metadata": {},
   "outputs": [],
   "source": [
    "def linear_regression(x, w):\n",
    "    y_hat = x @ w\n",
    "    return y_hat"
   ]
  },
  {
   "cell_type": "code",
   "execution_count": 84,
   "metadata": {},
   "outputs": [],
   "source": [
    "def mse(y , y_hat):\n",
    "    loss = np.mean((y - y_hat)**2)\n",
    "    return loss\n",
    "    \n",
    "    "
   ]
  },
  {
   "cell_type": "code",
   "execution_count": 85,
   "metadata": {},
   "outputs": [],
   "source": [
    "def gradient(x, y, y_hat):\n",
    "    grads = 2*(x.T @ (y_hat - y)) / y.shape[0]\n",
    "    return grads"
   ]
  },
  {
   "cell_type": "code",
   "execution_count": 86,
   "metadata": {},
   "outputs": [],
   "source": [
    "def gradient_descent(w , eta, grads):\n",
    "    w -= eta * grads\n",
    "    return w"
   ]
  },
  {
   "cell_type": "code",
   "execution_count": 87,
   "metadata": {},
   "outputs": [],
   "source": [
    "def mae (y , y_hat):\n",
    "    loss = np.mean(np.abs(y - y_hat))\n",
    "    return loss"
   ]
  },
  {
   "cell_type": "code",
   "execution_count": 88,
   "metadata": {},
   "outputs": [],
   "source": [
    "def r2(y, y_hat):\n",
    "    return 1 - np.sum((y - y_hat)**2) / np.sum((y - y.mean())**2)"
   ]
  },
  {
   "cell_type": "markdown",
   "metadata": {},
   "source": [
    "Load Dataset"
   ]
  },
  {
   "cell_type": "code",
   "execution_count": 89,
   "metadata": {},
   "outputs": [
    {
     "data": {
      "text/plain": [
       "((29, 1), (29, 1), (50, 1), (50, 1))"
      ]
     },
     "execution_count": 89,
     "metadata": {},
     "output_type": "execute_result"
    }
   ],
   "source": [
    "df = pd.read_csv(\"G:/Howsam/week 5/data/energy-train-s.csv\")\n",
    "train_set = np.array(df)\n",
    "\n",
    "x_train = train_set[:, :-1]\n",
    "y_train = train_set[:, -1:]\n",
    "\n",
    "df = pd.read_csv('G:/Howsam/week 5/data/energy-test-s.csv')\n",
    "test_set = np.array(df)\n",
    "\n",
    "x_test = test_set[:, :-1]\n",
    "y_test = test_set[:, -1:]\n",
    "\n",
    "x_train.shape, y_train.shape, x_test.shape, y_test.shape"
   ]
  },
  {
   "cell_type": "code",
   "execution_count": 90,
   "metadata": {},
   "outputs": [
    {
     "data": {
      "text/plain": [
       "((29, 3), (50, 3))"
      ]
     },
     "execution_count": 90,
     "metadata": {},
     "output_type": "execute_result"
    }
   ],
   "source": [
    "d = 2\n",
    "phi_x_train = polynomial(x_train)\n",
    "phi_x_test = polynomial(x_test)\n",
    "\n",
    "phi_x_train.shape, phi_x_test.shape"
   ]
  },
  {
   "cell_type": "markdown",
   "metadata": {},
   "source": [
    "Initialization\n"
   ]
  },
  {
   "cell_type": "code",
   "execution_count": 91,
   "metadata": {},
   "outputs": [
    {
     "name": "stdout",
     "output_type": "stream",
     "text": [
      "[[ 0.27671225]\n",
      " [-1.46250183]\n",
      " [-0.12115486]]\n"
     ]
    }
   ],
   "source": [
    "w = np.random.randn(d+1, 1)\n",
    "print(w)\n",
    "\n",
    "eta = 0.01\n",
    "n_epochs = 2000"
   ]
  },
  {
   "cell_type": "markdown",
   "metadata": {},
   "source": [
    "Train"
   ]
  },
  {
   "cell_type": "code",
   "execution_count": 92,
   "metadata": {},
   "outputs": [
    {
     "name": "stdout",
     "output_type": "stream",
     "text": [
      "Epoch=99 , \t E_train= 0.3873 ,\t w=[-0.24685638  0.17440754  0.4599405 ] , e_test= 0.2836, \t r2_train= 0.6127 , r2_test= 0.5373\n",
      "Epoch=199 , \t E_train= 0.1848 ,\t w=[-0.54727705  0.40300519  0.64625623] , e_test= 0.2169, \t r2_train= 0.8152 , r2_test= 0.6461\n",
      "Epoch=299 , \t E_train= 0.156 ,\t w=[-0.68427106  0.43816343  0.72876662] , e_test= 0.2422, \t r2_train= 0.844 , r2_test= 0.6048\n",
      "Epoch=399 , \t E_train= 0.1505 ,\t w=[-0.7455925   0.4449767   0.76543395] , e_test= 0.2605, \t r2_train= 0.8495 , r2_test= 0.575\n",
      "Epoch=499 , \t E_train= 0.1494 ,\t w=[-0.77290264  0.44683602  0.7817293 ] , e_test= 0.27, \t r2_train= 0.8506 , r2_test= 0.5595\n",
      "Epoch=599 , \t E_train= 0.1492 ,\t w=[-0.78504728  0.44750735  0.78897112] , e_test= 0.2744, \t r2_train= 0.8508 , r2_test= 0.5522\n",
      "Epoch=699 , \t E_train= 0.1491 ,\t w=[-0.79044552  0.44778514  0.79218947] , e_test= 0.2765, \t r2_train= 0.8509 , r2_test= 0.5489\n",
      "Epoch=799 , \t E_train= 0.1491 ,\t w=[-0.79284468  0.44790587  0.79361974] , e_test= 0.2774, \t r2_train= 0.8509 , r2_test= 0.5474\n",
      "Epoch=899 , \t E_train= 0.1491 ,\t w=[-0.79391092  0.44795916  0.79425536] , e_test= 0.2778, \t r2_train= 0.8509 , r2_test= 0.5467\n",
      "Epoch=999 , \t E_train= 0.1491 ,\t w=[-0.79438477  0.4479828   0.79453784] , e_test= 0.278, \t r2_train= 0.8509 , r2_test= 0.5464\n",
      "Epoch=1099 , \t E_train= 0.1491 ,\t w=[-0.79459535  0.4479933   0.79466338] , e_test= 0.2781, \t r2_train= 0.8509 , r2_test= 0.5463\n",
      "Epoch=1199 , \t E_train= 0.1491 ,\t w=[-0.79468894  0.44799796  0.79471917] , e_test= 0.2781, \t r2_train= 0.8509 , r2_test= 0.5462\n",
      "Epoch=1299 , \t E_train= 0.1491 ,\t w=[-0.79473053  0.44800003  0.79474396] , e_test= 0.2781, \t r2_train= 0.8509 , r2_test= 0.5462\n",
      "Epoch=1399 , \t E_train= 0.1491 ,\t w=[-0.79474901  0.44800095  0.79475498] , e_test= 0.2781, \t r2_train= 0.8509 , r2_test= 0.5462\n",
      "Epoch=1499 , \t E_train= 0.1491 ,\t w=[-0.79475722  0.44800136  0.79475988] , e_test= 0.2781, \t r2_train= 0.8509 , r2_test= 0.5462\n",
      "Epoch=1599 , \t E_train= 0.1491 ,\t w=[-0.79476087  0.44800155  0.79476205] , e_test= 0.2781, \t r2_train= 0.8509 , r2_test= 0.5462\n",
      "Epoch=1699 , \t E_train= 0.1491 ,\t w=[-0.7947625   0.44800163  0.79476302] , e_test= 0.2781, \t r2_train= 0.8509 , r2_test= 0.5462\n",
      "Epoch=1799 , \t E_train= 0.1491 ,\t w=[-0.79476322  0.44800166  0.79476345] , e_test= 0.2781, \t r2_train= 0.8509 , r2_test= 0.5462\n",
      "Epoch=1899 , \t E_train= 0.1491 ,\t w=[-0.79476354  0.44800168  0.79476364] , e_test= 0.2781, \t r2_train= 0.8509 , r2_test= 0.5462\n",
      "Epoch=1999 , \t E_train= 0.1491 ,\t w=[-0.79476368  0.44800168  0.79476373] , e_test= 0.2781, \t r2_train= 0.8509 , r2_test= 0.5462\n"
     ]
    }
   ],
   "source": [
    "error_hist_train = []\n",
    "error_hist_test = []\n",
    "score_test_hist= [] \n",
    "score_train_hist=[]\n",
    "\n",
    "for epochs in range(n_epochs):\n",
    "    #prediction\n",
    "    \n",
    "    y_hat = linear_regression(phi_x_train , w)\n",
    "    \n",
    "    #loss\n",
    "    \n",
    "    e = mse(y_train , y_hat)\n",
    "    error_hist_train.append(e)\n",
    "    \n",
    "    #gradients\n",
    "    grads = gradient(phi_x_train , y_train , y_hat)\n",
    "    \n",
    "    #gradient_descent\n",
    "    w = gradient_descent(w , eta , grads)\n",
    "    \n",
    "    #evaluation\n",
    "    y_hat_test = linear_regression(phi_x_test , w)\n",
    "    e_test = mse(y_test , y_hat_test)\n",
    "    error_hist_test.append(e_test)\n",
    "     \n",
    "    # metric test\n",
    "    s_test= r2(y_test , y_hat_test)\n",
    "    score_test_hist.append(s_test)\n",
    "    \n",
    "     #metric test\n",
    "    s = r2(y_train , y_hat)\n",
    "    score_train_hist.append(s)\n",
    "    \n",
    "    \n",
    "    if (epochs+1) % 100 == 0:\n",
    "        print(f'Epoch={epochs} , \\t E_train={e : .4} ,\\t w={w.T[0]} , e_test={e_test: .4}, \\t r2_train= {s:.4} , r2_test={s_test: .4}')\n",
    "    \n"
   ]
  },
  {
   "cell_type": "code",
   "execution_count": null,
   "metadata": {},
   "outputs": [],
   "source": []
  },
  {
   "cell_type": "markdown",
   "metadata": {},
   "source": [
    "Learning Curve\n"
   ]
  },
  {
   "cell_type": "code",
   "execution_count": 93,
   "metadata": {},
   "outputs": [
    {
     "data": {
      "image/png": "[encoded data removed]",
      "text/plain": [
       "<Figure size 640x480 with 1 Axes>"
      ]
     },
     "metadata": {},
     "output_type": "display_data"
    }
   ],
   "source": [
    "plt.plot(error_hist_train, label='Train')\n",
    "plt.plot(error_hist_test, label='Test');\n",
    "plt.legend()\n",
    "plt.grid()\n",
    "plt.title('Learning Curve for Loss');"
   ]
  },
  {
   "cell_type": "code",
   "execution_count": 94,
   "metadata": {},
   "outputs": [
    {
     "data": {
      "image/png": "[encoded data removed]",
      "text/plain": [
       "<Figure size 640x480 with 1 Axes>"
      ]
     },
     "metadata": {},
     "output_type": "display_data"
    }
   ],
   "source": [
    "plt.plot(score_train_hist, label='Train')\n",
    "plt.plot(score_test_hist, label='Test');\n",
    "plt.legend()\n",
    "plt.grid()\n",
    "plt.title('Learning Curve for Loss');"
   ]
  },
  {
   "cell_type": "code",
   "execution_count": null,
   "metadata": {},
   "outputs": [],
   "source": []
  },
  {
   "cell_type": "code",
   "execution_count": null,
   "metadata": {},
   "outputs": [],
   "source": []
  },
  {
   "cell_type": "code",
   "execution_count": null,
   "metadata": {},
   "outputs": [],
   "source": []
  }
 ],
 "metadata": {
  "kernelspec": {
   "display_name": "base",
   "language": "python",
   "name": "python3"
  },
  "language_info": {
   "codemirror_mode": {
    "name": "ipython",
    "version": 3
   },
   "file_extension": ".py",
   "mimetype": "text/x-python",
   "name": "python",
   "nbconvert_exporter": "python",
   "pygments_lexer": "ipython3",
   "version": "3.11.5"
  }
 },
 "nbformat": 4,
 "nbformat_minor": 2
}
